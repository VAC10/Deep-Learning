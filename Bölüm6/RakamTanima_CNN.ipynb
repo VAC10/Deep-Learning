{
  "nbformat": 4,
  "nbformat_minor": 0,
  "metadata": {
    "colab": {
      "name": "RakamTanima_CNN.ipynb",
      "provenance": []
    },
    "kernelspec": {
      "name": "python3",
      "display_name": "Python 3"
    },
    "accelerator": "GPU"
  },
  "cells": [
    {
      "cell_type": "markdown",
      "metadata": {
        "id": "FIOQmr47UV4n"
      },
      "source": [
        "# RakamTanima CNN\n",
        "\n",
        "---\n",
        "[<img align=\"right\" width=\"100\" height=\"100\" src=\"http://www.i2symbol.com/images/symbols/style-letters/circled_latin_capital_letter_a_u24B6_icon_128x128.png\">](https://www.ayyucekizrak.com/)"
      ]
    },
    {
      "cell_type": "markdown",
      "metadata": {
        "id": "WsqjPf8Y-YWw"
      },
      "source": [
        "**Colab** için kimlik doğrulama adımları:"
      ]
    },
    {
      "cell_type": "code",
      "metadata": {
        "id": "y-FF6kvPCMO0",
        "colab": {
          "base_uri": "https://localhost:8080/",
          "height": 35
        },
        "outputId": "e66711eb-3ef9-4bff-efbe-09db4566a914"
      },
      "source": [
        "from google.colab import drive\n",
        "drive.mount('/content/drive/')"
      ],
      "execution_count": null,
      "outputs": [
        {
          "output_type": "stream",
          "text": [
            "Drive already mounted at /content/drive/; to attempt to forcibly remount, call drive.mount(\"/content/drive/\", force_remount=True).\n"
          ],
          "name": "stdout"
        }
      ]
    },
    {
      "cell_type": "markdown",
      "metadata": {
        "id": "mmwhitluKIHx"
      },
      "source": [
        "### Kurulum ve Kontroller"
      ]
    },
    {
      "cell_type": "code",
      "metadata": {
        "id": "3I0a97d4KHgS",
        "colab": {
          "base_uri": "https://localhost:8080/",
          "height": 272
        },
        "outputId": "83d9db6a-2074-4e79-fe30-3ab050b0e2ba"
      },
      "source": [
        "from tensorflow.python.client import device_lib\n",
        "device_lib.list_local_devices()"
      ],
      "execution_count": null,
      "outputs": [
        {
          "output_type": "execute_result",
          "data": {
            "text/plain": [
              "[name: \"/device:CPU:0\"\n",
              " device_type: \"CPU\"\n",
              " memory_limit: 268435456\n",
              " locality {\n",
              " }\n",
              " incarnation: 17406991080642980702, name: \"/device:GPU:0\"\n",
              " device_type: \"GPU\"\n",
              " memory_limit: 183500800\n",
              " locality {\n",
              "   bus_id: 1\n",
              "   links {\n",
              "   }\n",
              " }\n",
              " incarnation: 4854968716796667022\n",
              " physical_device_desc: \"device: 0, name: Tesla K80, pci bus id: 0000:00:04.0, compute capability: 3.7\"]"
            ]
          },
          "metadata": {
            "tags": []
          },
          "execution_count": 4
        }
      ]
    },
    {
      "cell_type": "markdown",
      "metadata": {
        "id": "fQBEYuz5-f-b"
      },
      "source": [
        "**Drive da dosya konumlandırmayı yapma işlemleri**"
      ]
    },
    {
      "cell_type": "code",
      "metadata": {
        "id": "xzIWZIiiKikm",
        "colab": {
          "base_uri": "https://localhost:8080/",
          "height": 54
        },
        "outputId": "01d6f778-d95b-43d7-c5d0-c817ce6d18fe"
      },
      "source": [
        "!mkdir -p drive\n",
        "!google-drive-ocamlfuse drive\n",
        "!ls"
      ],
      "execution_count": null,
      "outputs": [
        {
          "output_type": "stream",
          "text": [
            "/bin/bash: google-drive-ocamlfuse: command not found\n",
            "drive  sample_data\n"
          ],
          "name": "stdout"
        }
      ]
    },
    {
      "cell_type": "code",
      "metadata": {
        "id": "THmIw3mvK5VM",
        "colab": {
          "base_uri": "https://localhost:8080/",
          "height": 35
        },
        "outputId": "3debf112-73af-4bdc-c131-c378fbbc3b1d"
      },
      "source": [
        "!ls drive"
      ],
      "execution_count": null,
      "outputs": [
        {
          "output_type": "stream",
          "text": [
            "'My Drive'\n"
          ],
          "name": "stdout"
        }
      ]
    },
    {
      "cell_type": "code",
      "metadata": {
        "id": "LMzna52zK_ED",
        "colab": {
          "base_uri": "https://localhost:8080/",
          "height": 35
        },
        "outputId": "1bf0e5cb-b925-4922-98e2-26f12753e23d"
      },
      "source": [
        "import os \n",
        "os.chdir(\"/content/drive/My Drive/Udemy_DerinOgrenmeyeGiris/Evrisimli_Sinir_Aglari/\")\n",
        "!pwd"
      ],
      "execution_count": null,
      "outputs": [
        {
          "output_type": "stream",
          "text": [
            "/content/drive/My Drive/Udemy_DerinOgrenmeyeGiris/Evrisimli_Sinir_Aglari\n"
          ],
          "name": "stdout"
        }
      ]
    },
    {
      "cell_type": "code",
      "metadata": {
        "id": "NtFJlQafLLb4",
        "colab": {
          "base_uri": "https://localhost:8080/",
          "height": 108
        },
        "outputId": "f84a0fe4-2222-402a-fdb3-14c374bee4d8"
      },
      "source": [
        "!ls"
      ],
      "execution_count": null,
      "outputs": [
        {
          "output_type": "stream",
          "text": [
            "ArtistikStilTransferi\t\t  fashion_mnist.py\n",
            "Duygu_Tanima\t\t\t  Nesne_Tanima\n",
            "EvrisimliSinirAgi_AdimAdim.ipynb  RakamTanima_CNN.ipynb\n",
            "evrisimlisiniragi_adimadim.py\t  rakamtanima_cnn.py\n",
            "Fashion_MNIST.ipynb\t\t  YOLO_ile_Nesne_Yeri_Tespiti\n"
          ],
          "name": "stdout"
        }
      ]
    },
    {
      "cell_type": "code",
      "metadata": {
        "id": "upGiOWYHLf9t"
      },
      "source": [
        "!pip install -q keras"
      ],
      "execution_count": null,
      "outputs": []
    },
    {
      "cell_type": "markdown",
      "metadata": {
        "id": "T2hiXtO3Los7"
      },
      "source": [
        "### Uygulama Başlangıç"
      ]
    },
    {
      "cell_type": "code",
      "metadata": {
        "id": "V45NzAqmLoet",
        "colab": {
          "base_uri": "https://localhost:8080/",
          "height": 34
        },
        "outputId": "a5cb507e-9d22-46bd-8acf-892e59efd6b3"
      },
      "source": [
        "from __future__ import print_function\n",
        "import keras\n",
        "from keras.datasets import mnist\n",
        "from keras.models import load_model\n",
        "from keras.models import Sequential\n",
        "from keras.layers import Dense, Dropout, Flatten\n",
        "from keras. layers import Conv2D, MaxPooling2D\n",
        "from keras import backend as K\n",
        "\n",
        "import matplotlib.pyplot as plt"
      ],
      "execution_count": null,
      "outputs": [
        {
          "output_type": "stream",
          "text": [
            "Using TensorFlow backend.\n"
          ],
          "name": "stderr"
        }
      ]
    },
    {
      "cell_type": "code",
      "metadata": {
        "id": "5pZ6OscyMywo"
      },
      "source": [
        "(x_train, y_train), (x_test, y_test) = mnist.load_data()"
      ],
      "execution_count": null,
      "outputs": []
    },
    {
      "cell_type": "markdown",
      "metadata": {
        "id": "CcCy6z4c-kqL"
      },
      "source": [
        "### Veriden örnekleri görselleştirme"
      ]
    },
    {
      "cell_type": "code",
      "metadata": {
        "id": "bhQj0kg1M9yc",
        "colab": {
          "base_uri": "https://localhost:8080/",
          "height": 713
        },
        "outputId": "60b1084c-b9db-49e6-fa11-62831eb15357"
      },
      "source": [
        "plt.figure(figsize=(14,14))\n",
        "x, y = 10, 4 \n",
        "for i in range(40):  \n",
        "    plt.subplot(y, x, i+1)\n",
        "    plt.imshow(x_train[i])\n",
        "plt.show()"
      ],
      "execution_count": null,
      "outputs": [
        {
          "output_type": "display_data",
          "data": {
            "image/png": "[encoded data removed]",
            "text/plain": [
              "<matplotlib.figure.Figure at 0x7f1668188358>"
            ]
          },
          "metadata": {
            "tags": []
          }
        }
      ]
    },
    {
      "cell_type": "code",
      "metadata": {
        "id": "LmHTKc_5NvmM"
      },
      "source": [
        "batch_size = 128 \n",
        "num_classes = 10 \n",
        "epochs = 6 # 12 epoch önerilir\n",
        "\n",
        "img_rows, img_cols = 28, 28\n",
        "\n",
        "\n",
        "if K.image_data_format() == 'channels_first':\n",
        "    x_train = x_train.reshape(x_train.shape[0], 1, img_rows, img_cols)\n",
        "    x_test = x_test.reshape(x_test.shape[0], 1, img_rows, img_cols)\n",
        "    input_shape = (1, img_rows, img_cols)\n",
        "else:\n",
        "    x_train = x_train.reshape(x_train.shape[0], img_rows, img_cols, 1)\n",
        "    x_test = x_test.reshape(x_test.shape[0], img_rows, img_cols, 1)\n",
        "    input_shape = (img_rows, img_cols, 1)"
      ],
      "execution_count": null,
      "outputs": []
    },
    {
      "cell_type": "code",
      "metadata": {
        "id": "vhn8u5PNOn0W"
      },
      "source": [
        "y_train = keras.utils.to_categorical(y_train, num_classes)\n",
        "y_test = keras.utils.to_categorical(y_test, num_classes)"
      ],
      "execution_count": null,
      "outputs": []
    },
    {
      "cell_type": "markdown",
      "metadata": {
        "id": "iQKd5RauPB82"
      },
      "source": [
        "## MODEL OLUŞTURMA"
      ]
    },
    {
      "cell_type": "code",
      "metadata": {
        "id": "o5EdaBRDPGd6"
      },
      "source": [
        "model = Sequential() "
      ],
      "execution_count": null,
      "outputs": []
    },
    {
      "cell_type": "markdown",
      "metadata": {
        "id": "mRDxYviAPS1E"
      },
      "source": [
        "**Katlanların oluşturulması**"
      ]
    },
    {
      "cell_type": "code",
      "metadata": {
        "id": "ryuCeOusPW1E"
      },
      "source": [
        "model.add(Conv2D(32, kernel_size=(3, 3),\n",
        "                 activation='relu',\n",
        "                 input_shape=input_shape))\n",
        "\n",
        " \n",
        "model.add(Conv2D(64, (3, 3), activation='relu'))\n",
        "\n",
        "\n",
        "model.add(MaxPooling2D(pool_size=(2, 2)))\n",
        "\n",
        "\n",
        "model.add(Dropout(0.25))\n",
        "\n",
        "\n",
        "model.add(Flatten())\n",
        "\n",
        "\n",
        "model.add(Dense(128, activation='relu'))\n",
        "\n",
        "model.add(Dropout(0.5))\n",
        "\n",
        "\n",
        "model.add(Dense(num_classes, activation='softmax'))"
      ],
      "execution_count": null,
      "outputs": []
    },
    {
      "cell_type": "markdown",
      "metadata": {
        "id": "17zBAs_JRlMN"
      },
      "source": [
        "Modell Görselleştirme\n"
      ]
    },
    {
      "cell_type": "code",
      "metadata": {
        "id": "7I3CppJTWrSf",
        "colab": {
          "base_uri": "https://localhost:8080/",
          "height": 408
        },
        "outputId": "d116d295-f774-4697-82da-fc0baf019617"
      },
      "source": [
        "model.summary()\n"
      ],
      "execution_count": null,
      "outputs": [
        {
          "output_type": "stream",
          "text": [
            "_________________________________________________________________\n",
            "Layer (type)                 Output Shape              Param #   \n",
            "=================================================================\n",
            "conv2d_1 (Conv2D)            (None, 26, 26, 32)        320       \n",
            "_________________________________________________________________\n",
            "conv2d_2 (Conv2D)            (None, 24, 24, 64)        18496     \n",
            "_________________________________________________________________\n",
            "max_pooling2d_1 (MaxPooling2 (None, 12, 12, 64)        0         \n",
            "_________________________________________________________________\n",
            "dropout_1 (Dropout)          (None, 12, 12, 64)        0         \n",
            "_________________________________________________________________\n",
            "flatten_1 (Flatten)          (None, 9216)              0         \n",
            "_________________________________________________________________\n",
            "dense_1 (Dense)              (None, 128)               1179776   \n",
            "_________________________________________________________________\n",
            "dropout_2 (Dropout)          (None, 128)               0         \n",
            "_________________________________________________________________\n",
            "dense_2 (Dense)              (None, 10)                1290      \n",
            "=================================================================\n",
            "Total params: 1,199,882\n",
            "Trainable params: 1,199,882\n",
            "Non-trainable params: 0\n",
            "_________________________________________________________________\n"
          ],
          "name": "stdout"
        }
      ]
    },
    {
      "cell_type": "code",
      "metadata": {
        "id": "b-vFRrUpRsEn"
      },
      "source": [
        "\n",
        "model.compile(loss = keras.losses.categorical_crossentropy,\n",
        "             optimizer = keras.optimizers.Adadelta(),\n",
        "             metrics = ['accuracy'])"
      ],
      "execution_count": null,
      "outputs": []
    },
    {
      "cell_type": "markdown",
      "metadata": {
        "id": "F1g3cwBwXv13"
      },
      "source": [
        "### Eğitim İşlemleri"
      ]
    },
    {
      "cell_type": "code",
      "metadata": {
        "id": "KQ2cRjQsXucS",
        "colab": {
          "base_uri": "https://localhost:8080/",
          "height": 255
        },
        "outputId": "17f9b5b9-25f0-47dd-9884-7d84ba0a3c9f"
      },
      "source": [
        "model.fit(x_train, y_train,\n",
        "          batch_size=batch_size,\n",
        "          epochs=epochs,\n",
        "          verbose=1,\n",
        "          validation_data=(x_test, y_test))"
      ],
      "execution_count": null,
      "outputs": [
        {
          "output_type": "stream",
          "text": [
            "Train on 60000 samples, validate on 10000 samples\n",
            "Epoch 1/6\n",
            "60000/60000 [==============================] - 12s 195us/step - loss: 2.4778 - acc: 0.7914 - val_loss: 0.0729 - val_acc: 0.9784\n",
            "Epoch 2/6\n",
            "60000/60000 [==============================] - 10s 164us/step - loss: 0.1152 - acc: 0.9668 - val_loss: 0.0437 - val_acc: 0.9854\n",
            "Epoch 3/6\n",
            "60000/60000 [==============================] - 10s 164us/step - loss: 0.0824 - acc: 0.9769 - val_loss: 0.0374 - val_acc: 0.9870\n",
            "Epoch 4/6\n",
            "60000/60000 [==============================] - 10s 163us/step - loss: 0.0652 - acc: 0.9808 - val_loss: 0.0333 - val_acc: 0.9896\n",
            "Epoch 5/6\n",
            "60000/60000 [==============================] - 10s 168us/step - loss: 0.0543 - acc: 0.9839 - val_loss: 0.0323 - val_acc: 0.9900\n",
            "Epoch 6/6\n",
            "60000/60000 [==============================] - 10s 163us/step - loss: 0.0488 - acc: 0.9852 - val_loss: 0.0330 - val_acc: 0.9896\n"
          ],
          "name": "stdout"
        },
        {
          "output_type": "execute_result",
          "data": {
            "text/plain": [
              "<keras.callbacks.History at 0x7f16611f75f8>"
            ]
          },
          "metadata": {
            "tags": []
          },
          "execution_count": 19
        }
      ]
    },
    {
      "cell_type": "code",
      "metadata": {
        "id": "dMEXS-A0Y78X"
      },
      "source": [
        "model.save('save_models/mnist_model.h5')"
      ],
      "execution_count": null,
      "outputs": []
    },
    {
      "cell_type": "code",
      "metadata": {
        "id": "JGPF05mLakxN",
        "colab": {
          "base_uri": "https://localhost:8080/",
          "height": 51
        },
        "outputId": "08d67840-32cc-4014-c719-28911380d531"
      },
      "source": [
        "score = model.evaluate(x_test, y_test, verbose=0)\n",
        "print('Test Loss:', score[0])\n",
        "print('Test Accuracy:', score[1])\n"
      ],
      "execution_count": null,
      "outputs": [
        {
          "output_type": "stream",
          "text": [
            "Test Loss: 0.03304198571913785\n",
            "Test Accuracy: 0.9896\n"
          ],
          "name": "stdout"
        }
      ]
    },
    {
      "cell_type": "markdown",
      "metadata": {
        "id": "zs1dmePNbNV2"
      },
      "source": [
        "**Rastgele değer için test işlemi**"
      ]
    },
    {
      "cell_type": "code",
      "metadata": {
        "id": "G9DrBMvzcvIF"
      },
      "source": [
        "model_test = model.save('save_models/mnist_model.h5')"
      ],
      "execution_count": null,
      "outputs": []
    },
    {
      "cell_type": "code",
      "metadata": {
        "id": "g4EM3Fc1bHqO",
        "colab": {
          "base_uri": "https://localhost:8080/",
          "height": 34
        },
        "outputId": "ba9a16c0-83a9-4156-c5fc-f348fee360d6"
      },
      "source": [
        "test_image = x_test[32]\n",
        "y_test[32]"
      ],
      "execution_count": null,
      "outputs": [
        {
          "output_type": "execute_result",
          "data": {
            "text/plain": [
              "array([0., 0., 0., 1., 0., 0., 0., 0., 0., 0.], dtype=float32)"
            ]
          },
          "metadata": {
            "tags": []
          },
          "execution_count": 42
        }
      ]
    },
    {
      "cell_type": "code",
      "metadata": {
        "id": "SAO6lR24bwko",
        "colab": {
          "base_uri": "https://localhost:8080/",
          "height": 364
        },
        "outputId": "9ab18d22-accf-4777-8162-aff8eba85a76"
      },
      "source": [
        "plt.imshow(test_image.reshape(28,28))"
      ],
      "execution_count": null,
      "outputs": [
        {
          "output_type": "execute_result",
          "data": {
            "text/plain": [
              "<matplotlib.image.AxesImage at 0x7f16644dccf8>"
            ]
          },
          "metadata": {
            "tags": []
          },
          "execution_count": 43
        },
        {
          "output_type": "display_data",
          "data": {
            "image/png": "[encoded data removed]",
            "text/plain": [
              "<matplotlib.figure.Figure at 0x7f16644bfbe0>"
            ]
          },
          "metadata": {
            "tags": []
          }
        }
      ]
    },
    {
      "cell_type": "code",
      "metadata": {
        "id": "_FSx1IrNb5W4"
      },
      "source": [
        "test_data = x_test[32].reshape(1,28,28,1)\n",
        "pre=model_test.predict(test_data, batch_size=1)"
      ],
      "execution_count": null,
      "outputs": []
    }
  ]
}